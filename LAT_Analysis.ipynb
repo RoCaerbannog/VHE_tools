{
 "metadata": {
  "name": "",
  "signature": "sha256:62a23abff1826043b4578317028ffcd05c0d03fbc59b66d00c7c04f4cceb3a8a"
 },
 "nbformat": 3,
 "nbformat_minor": 0,
 "worksheets": [
  {
   "cells": [
    {
     "cell_type": "code",
     "collapsed": false,
     "input": [
      "import gt_apps as my_apps"
     ],
     "language": "python",
     "metadata": {},
     "outputs": [],
     "prompt_number": 1
    },
    {
     "cell_type": "code",
     "collapsed": false,
     "input": [
      "import os"
     ],
     "language": "python",
     "metadata": {},
     "outputs": [],
     "prompt_number": 2
    },
    {
     "cell_type": "code",
     "collapsed": false,
     "input": [
      "help(my_apps)"
     ],
     "language": "python",
     "metadata": {},
     "outputs": [
      {
       "output_type": "stream",
       "stream": "stdout",
       "text": [
        "Help on module gt_apps:\n",
        "\n",
        "NAME\n",
        "    gt_apps - This module uses GtApp to wraps the Science Tools as python objects.\n",
        "\n",
        "FILE\n",
        "    /home/fermi2014/AstroSoft/ScienceTools/x86_64-unknown-linux-gnu-libc2.12/lib/python/gt_apps.py\n",
        "\n",
        "DATA\n",
        "    TsMap = <GtApp.GtApp object>\n",
        "    addCubes = <GtApp.GtApp object>\n",
        "    counts_map = <GtApp.GtApp object>\n",
        "    diffResps = <GtApp.GtApp object>\n",
        "    evtbin = <GtApp.GtApp object>\n",
        "    expCube = <GtApp.GtApp object>\n",
        "    expMap = <GtApp.GtApp object>\n",
        "    filter = <GtApp.GtApp object>\n",
        "    gtexpcube2 = <GtApp.GtApp object>\n",
        "    like = <GtApp.GtApp object>\n",
        "    maketime = <GtApp.GtApp object>\n",
        "    model_map = <GtApp.GtApp object>\n",
        "    obsSim = <GtApp.GtApp object>\n",
        "    rspgen = <GtApp.GtApp object>\n",
        "    srcMaps = <GtApp.GtApp object>\n",
        "\n",
        "\n"
       ]
      }
     ],
     "prompt_number": 3
    },
    {
     "cell_type": "code",
     "collapsed": false,
     "input": [
      "my_apps.filter['evclass'] = 0\n",
      "my_apps.filter['ra'] = 173.136\n",
      "my_apps.filter['dec'] = 27.7129\n",
      "my_apps.filter['rad'] = 30\n",
      "my_apps.filter['emin'] = 100\n",
      "my_apps.filter['emax'] = 300000\n",
      "my_apps.filter['zmax'] = 100\n",
      "my_apps.filter['tmin'] = 388741629\n",
      "my_apps.filter['tmax'] = 388751629\n",
      "my_apps.filter['infile'] = 'Fermi_ph_week_256.fits'\n",
      "my_apps.filter['outfile'] = 'GRB130427A_filtered.fits'"
     ],
     "language": "python",
     "metadata": {},
     "outputs": [],
     "prompt_number": 15
    },
    {
     "cell_type": "code",
     "collapsed": false,
     "input": [
      "my_apps.filter.run()"
     ],
     "language": "python",
     "metadata": {},
     "outputs": [
      {
       "output_type": "stream",
       "stream": "stdout",
       "text": [
        "time -p /home/fermi2014/AstroSoft/ScienceTools/x86_64-unknown-linux-gnu-libc2.12/bin/gtselect infile=Fermi_ph_week_256.fits outfile=GRB130427A_filtered.fits ra=173.136 dec=27.7129 rad=30.0 tmin=388741629.0 tmax=388751629.0 emin=100.0 emax=300000.0 zmax=100.0 evclsmin=\"INDEF\" evclsmax=\"INDEF\" evclass=0 convtype=-1 phasemin=0.0 phasemax=1.0 evtable=\"EVENTS\" chatter=2 clobber=yes debug=no gui=no mode=\"ql\"\n",
        "Done."
       ]
      },
      {
       "output_type": "stream",
       "stream": "stdout",
       "text": [
        "\n",
        "real 2.71\n",
        "user 1.39\n",
        "sys 0.52\n"
       ]
      }
     ],
     "prompt_number": 16
    },
    {
     "cell_type": "code",
     "collapsed": false,
     "input": [
      "my_apps.maketime['scfile'] = 'lat_spacecraft_merged.fits'\n",
      "my_apps.maketime['filter'] = '(DATA_QUAL>0)&&(LAT_CONFIG==1)'\n",
      "my_apps.maketime['roicut'] = 'yes'\n",
      "my_apps.maketime['evfile'] = 'GRB130427A_filtered.fits'\n",
      "my_apps.maketime['outfile'] = 'GRB130427A_filtered_gti.fits'\n",
      "my_apps.maketime['debug'] = True\n",
      "my_apps.maketime.run()"
     ],
     "language": "python",
     "metadata": {},
     "outputs": [
      {
       "output_type": "stream",
       "stream": "stdout",
       "text": [
        "time -p /home/fermi2014/AstroSoft/ScienceTools/x86_64-unknown-linux-gnu-libc2.12/bin/gtmktime scfile=lat_spacecraft_merged.fits sctable=\"SC_DATA\" filter=\"(DATA_QUAL>0)&&(LAT_CONFIG==1)\" roicut=yes evfile=GRB130427A_filtered.fits evtable=\"EVENTS\" outfile=\"GRB130427A_filtered_gti.fits\" apply_filter=yes overwrite=no header_obstimes=yes tstart=0.0 tstop=0.0 gtifile=\"default\" chatter=2 clobber=yes debug=True gui=no mode=\"ql\"\n",
        "real 3.12"
       ]
      },
      {
       "output_type": "stream",
       "stream": "stdout",
       "text": [
        "\n",
        "user 2.44\n",
        "sys 0.24\n"
       ]
      }
     ],
     "prompt_number": 18
    },
    {
     "cell_type": "code",
     "collapsed": false,
     "input": [
      "my_apps.expCube['evfile'] = 'GRB130427A_filtered_gti.fits'\n",
      "my_apps.expCube['scfile'] = 'lat_spacecraft_merged.fits'\n",
      "my_apps.expCube['outfile'] = 'GRB130427A_ltCube.fits'\n",
      "my_apps.expCube['dcostheta'] = 0.025\n",
      "my_apps.expCube['binsz'] = 1\n",
      "my_apps.expCube.run('debug') "
     ],
     "language": "python",
     "metadata": {},
     "outputs": [
      {
       "output_type": "stream",
       "stream": "stdout",
       "text": [
        "time -p /home/fermi2014/AstroSoft/ScienceTools/x86_64-unknown-linux-gnu-libc2.12/bin/gtltcube evfile=\"GRB130427A_filtered_gti.fits\" evtable=\"EVENTS\" scfile=lat_spacecraft_merged.fits sctable=\"SC_DATA\" outfile=GRB130427A_ltCube.fits dcostheta=0.025 binsz=1.0 phibins=0 tmin=0.0 tmax=0.0 file_version=\"1\" zmin=0.0 zmax=180.0 chatter=2 clobber=yes debug=no gui=no mode=\"ql\"\n",
        "Working on file lat_spacecraft_merged.fits"
       ]
      },
      {
       "output_type": "stream",
       "stream": "stdout",
       "text": [
        "\n",
        ".....................!\n",
        "real 2.70\n",
        "user 1.82\n",
        "sys 0.31\n"
       ]
      }
     ],
     "prompt_number": 19
    },
    {
     "cell_type": "code",
     "collapsed": false,
     "input": [
      "from GtApp import GtApp\n",
      "expCubeSun = GtApp('gtltcubesun','Likelihood')\n",
      "expCubeSun.command()"
     ],
     "language": "python",
     "metadata": {},
     "outputs": [
      {
       "metadata": {},
       "output_type": "pyout",
       "prompt_number": 20,
       "text": [
        "'time -p /home/fermi2014/AstroSoft/ScienceTools/x86_64-unknown-linux-gnu-libc2.12/bin/gtltcubesun evfile=\"\" evtable=\"EVENTS\" scfile= sctable=\"SC_DATA\" outfile=expCube.fits body=\"SUN\" dcostheta=0.025 thetasunmax=180.0 binsz=0.5 phibins=0 tmin=0.0 tmax=0.0 powerbinsun=2.7 file_version=\"1\" zmax=180.0 chatter=2 clobber=yes debug=no gui=no mode=\"ql\"'"
       ]
      }
     ],
     "prompt_number": 20
    },
    {
     "cell_type": "heading",
     "level": 2,
     "metadata": {},
     "source": [
      "Exposure Maps"
     ]
    },
    {
     "cell_type": "code",
     "collapsed": false,
     "input": [
      "my_apps.expMap['evfile'] = 'GRB130427A_filtered_gti.fits'\n",
      "my_apps.expMap['scfile'] ='lat_spacecraft_merged.fits'\n",
      "my_apps.expMap['expcube'] ='GRB130427A_ltCube.fits'\n",
      "my_apps.expMap['outfile'] ='GRB130427A_expMap.fits'\n",
      "my_apps.expMap['irfs'] ='CALDB'\n",
      "my_apps.expMap['srcrad'] = 40\n",
      "my_apps.expMap['nlong'] = 120\n",
      "my_apps.expMap['nlat'] = 120\n",
      "my_apps.expMap['nenergies'] = 20\n",
      "my_apps.expMap['debug'] = True\n"
     ],
     "language": "python",
     "metadata": {},
     "outputs": [],
     "prompt_number": 26
    },
    {
     "cell_type": "code",
     "collapsed": false,
     "input": [
      "my_apps.expMap.run() "
     ],
     "language": "python",
     "metadata": {},
     "outputs": [
      {
       "output_type": "stream",
       "stream": "stdout",
       "text": [
        "time -p /home/fermi2014/AstroSoft/ScienceTools/x86_64-unknown-linux-gnu-libc2.12/bin/gtexpmap evfile=GRB130427A_filtered_gti.fits evtable=\"EVENTS\" scfile=lat_spacecraft_merged.fits sctable=\"SC_DATA\" expcube=GRB130427A_ltCube.fits outfile=GRB130427A_expMap.fits irfs=\"CALDB\" srcrad=40.0 nlong=120 nlat=120 nenergies=20 submap=no nlongmin=0 nlongmax=0 nlatmin=0 nlatmax=0 chatter=2 clobber=yes debug=True gui=no mode=\"ql\"\n",
        "The exposure maps generated by this tool are meant"
       ]
      },
      {
       "output_type": "stream",
       "stream": "stdout",
       "text": [
        "\n",
        "to be used for *unbinned* likelihood analysis only.\n",
        "Do not use them for binned analyses.\n",
        "Computing the ExposureMap using GRB130427A_ltCube.fits\n",
        "....................!\n",
        "real 649.51\n",
        "user 509.22\n",
        "sys 9.35\n"
       ]
      }
     ],
     "prompt_number": 27
    },
    {
     "cell_type": "code",
     "collapsed": false,
     "input": [],
     "language": "python",
     "metadata": {},
     "outputs": []
    },
    {
     "cell_type": "heading",
     "level": 3,
     "metadata": {},
     "source": [
      "Generate XML Model File"
     ]
    },
    {
     "cell_type": "code",
     "collapsed": false,
     "input": [
      "from make2FGLxml import *"
     ],
     "language": "python",
     "metadata": {},
     "outputs": [],
     "prompt_number": 42
    },
    {
     "cell_type": "code",
     "collapsed": false,
     "input": [
      "mymodel = srcList('gll_psc_v08.fit','GRB130427A_filtered_gti.fits','GRB130427A_model.xml')\n",
      "mymodel.makeModel('gll_iem_v05_rev1.fit', 'gll_iem_v05_rev1', 'iso_source_v05_rev1.txt', 'iso_source_v05_rev1')\n",
      "\n"
     ],
     "language": "python",
     "metadata": {},
     "outputs": [
      {
       "output_type": "stream",
       "stream": "stdout",
       "text": [
        "Warning: GRB130427A_model.xml already exists, file will be overwritten if you proceed with makeModel.\n",
        "Creating file and adding sources for 2FGL"
       ]
      },
      {
       "output_type": "stream",
       "stream": "stdout",
       "text": [
        "\n",
        "Added 157 point sources and 0 extended sources"
       ]
      },
      {
       "output_type": "stream",
       "stream": "stdout",
       "text": [
        "\n"
       ]
      }
     ],
     "prompt_number": 52
    },
    {
     "cell_type": "code",
     "collapsed": false,
     "input": [
      "diffrsp = GtApp('gtdiffrsp')"
     ],
     "language": "python",
     "metadata": {},
     "outputs": [],
     "prompt_number": 55
    },
    {
     "cell_type": "code",
     "collapsed": false,
     "input": [
      "diffrsp['evfile'] = 'GRB130427A_filtered_gti.fits'\n",
      "diffrsp['scfile'] = 'lat_spacecraft_merged.fits'\n",
      "diffrsp['srcmdl'] = 'GRB130427A_model.xml'\n",
      "diffrsp.run()"
     ],
     "language": "python",
     "metadata": {},
     "outputs": [
      {
       "output_type": "stream",
       "stream": "stdout",
       "text": [
        "time -p /home/fermi2014/AstroSoft/ScienceTools/x86_64-unknown-linux-gnu-libc2.12/bin/gtdiffrsp evfile=GRB130427A_filtered_gti.fits evtable=\"EVENTS\" scfile=lat_spacecraft_merged.fits sctable=\"SC_DATA\" srcmdl=GRB130427A_model.xml irfs=\"CALDB\" evclsmin=0 evclass=\"INDEF\" convert=no chatter=2 clobber=no debug=no gui=no mode=\"ql\"\n",
        "adding source gll_iem_v05_rev1"
       ]
      },
      {
       "output_type": "stream",
       "stream": "stdout",
       "text": [
        "\n",
        "adding source iso_source_v05_rev1\n",
        "Working on...\n",
        "GRB130427A_filtered_gti.fits.....................!\n",
        "real 51.25\n",
        "user 32.01\n",
        "sys 5.63\n"
       ]
      }
     ],
     "prompt_number": 61
    },
    {
     "cell_type": "heading",
     "level": 3,
     "metadata": {},
     "source": [
      "Run the Likelihood Analysis"
     ]
    },
    {
     "cell_type": "code",
     "collapsed": false,
     "input": [
      "import pyLikelihood\n",
      "from UnbinnedAnalysis import *\n",
      "obs = UnbinnedObs('GRB130427A_filtered_gti.fits','lat_spacecraft_merged.fits',expMap='GRB130427A_expMap.fits',expCube='GRB130427A_ltCube.fits',irfs='CALDB')\n",
      "like = UnbinnedAnalysis(obs,'GRB130427A_model.xml',optimizer='NewMinuit')\n",
      "\n"
     ],
     "language": "python",
     "metadata": {},
     "outputs": [],
     "prompt_number": 64
    },
    {
     "cell_type": "code",
     "collapsed": false,
     "input": [
      "print obs\n",
      "print like"
     ],
     "language": "python",
     "metadata": {},
     "outputs": [
      {
       "output_type": "stream",
       "stream": "stdout",
       "text": [
        "Event file(s): GRB130427A_filtered_gti.fits\n",
        "Spacecraft file(s): lat_spacecraft_merged.fits\n",
        "Exposure map: GRB130427A_expMap.fits\n",
        "Exposure cube: GRB130427A_ltCube.fits\n",
        "IRFs: CALDB\n",
        "Event file(s): GRB130427A_filtered_gti.fits\n",
        "Spacecraft file(s): lat_spacecraft_merged.fits\n",
        "Exposure map: GRB130427A_expMap.fits\n",
        "Exposure cube: GRB130427A_ltCube.fits\n",
        "IRFs: CALDB\n",
        "Source model file: GRB130427A_model.xml\n",
        "Optimizer: NewMinuit\n"
       ]
      }
     ],
     "prompt_number": 66
    },
    {
     "cell_type": "code",
     "collapsed": false,
     "input": [
      "dir(like)"
     ],
     "language": "python",
     "metadata": {},
     "outputs": [
      {
       "metadata": {},
       "output_type": "pyout",
       "prompt_number": 67,
       "text": [
        "['NpredValue',\n",
        " 'Ts',\n",
        " 'Ts_old',\n",
        " '_Nobs',\n",
        " '__call__',\n",
        " '__class__',\n",
        " '__delattr__',\n",
        " '__dict__',\n",
        " '__doc__',\n",
        " '__format__',\n",
        " '__getattribute__',\n",
        " '__getitem__',\n",
        " '__hash__',\n",
        " '__init__',\n",
        " '__module__',\n",
        " '__new__',\n",
        " '__reduce__',\n",
        " '__reduce_ex__',\n",
        " '__repr__',\n",
        " '__setattr__',\n",
        " '__setitem__',\n",
        " '__sizeof__',\n",
        " '__str__',\n",
        " '__subclasshook__',\n",
        " '__weakref__',\n",
        " '_errors',\n",
        " '_importPlotter',\n",
        " '_inputs',\n",
        " '_isDiffuseOrNearby',\n",
        " '_minosIndexError',\n",
        " '_npredValues',\n",
        " '_plotData',\n",
        " '_plotResiduals',\n",
        " '_plotSource',\n",
        " '_renorm',\n",
        " '_separation',\n",
        " '_setSourceAttributes',\n",
        " '_srcCnts',\n",
        " '_srcDialog',\n",
        " '_xrange',\n",
        " 'addSource',\n",
        " 'covar_is_current',\n",
        " 'covariance',\n",
        " 'deleteSource',\n",
        " 'disp',\n",
        " 'e_vals',\n",
        " 'energies',\n",
        " 'energyFlux',\n",
        " 'energyFluxError',\n",
        " 'fit',\n",
        " 'flux',\n",
        " 'fluxError',\n",
        " 'freePars',\n",
        " 'freeze',\n",
        " 'getExtraSourceAttributes',\n",
        " 'logLike',\n",
        " 'maxdist',\n",
        " 'minosError',\n",
        " 'model',\n",
        " 'nobs',\n",
        " 'normPar',\n",
        " 'observation',\n",
        " 'oplot',\n",
        " 'optObject',\n",
        " 'optimize',\n",
        " 'optimizer',\n",
        " 'par_index',\n",
        " 'params',\n",
        " 'plot',\n",
        " 'plotSource',\n",
        " 'plotSourceFit',\n",
        " 'reset_ebounds',\n",
        " 'resids',\n",
        " 'restoreBestFit',\n",
        " 'saveCurrentFit',\n",
        " 'scan',\n",
        " 'setEnergyRange',\n",
        " 'setFitTolType',\n",
        " 'setFreeFlag',\n",
        " 'setPlotter',\n",
        " 'setSpectrum',\n",
        " 'sourceFitPlots',\n",
        " 'sourceFitResids',\n",
        " 'sourceNames',\n",
        " 'srcModel',\n",
        " 'state',\n",
        " 'syncSrcParams',\n",
        " 'thaw',\n",
        " 'tol',\n",
        " 'tolType',\n",
        " 'total_nobs',\n",
        " 'writeCountsSpectra',\n",
        " 'writeXml']"
       ]
      }
     ],
     "prompt_number": 67
    },
    {
     "cell_type": "code",
     "collapsed": false,
     "input": [
      "like.tol\n",
      "#like.tolType\n",
      "#like.tol"
     ],
     "language": "python",
     "metadata": {},
     "outputs": [
      {
       "metadata": {},
       "output_type": "pyout",
       "prompt_number": 78,
       "text": [
        "0.001"
       ]
      }
     ],
     "prompt_number": 78
    },
    {
     "cell_type": "code",
     "collapsed": false,
     "input": [
      "likeobj = pyLike.NewMinuit(like.logLike)\n"
     ],
     "language": "python",
     "metadata": {},
     "outputs": [],
     "prompt_number": 80
    },
    {
     "cell_type": "code",
     "collapsed": false,
     "input": [
      "like.fit(verbosity=0,covar=True,optObject=like2obj)"
     ],
     "language": "python",
     "metadata": {},
     "outputs": [
      {
       "ename": "RuntimeError",
       "evalue": "Minuit abnormal termination.  No convergence?",
       "output_type": "pyerr",
       "traceback": [
        "\u001b[1;31m---------------------------------------------------------------------------\u001b[0m\n\u001b[1;31mRuntimeError\u001b[0m                              Traceback (most recent call last)",
        "\u001b[1;32m<ipython-input-81-1d04dc08526c>\u001b[0m in \u001b[0;36m<module>\u001b[1;34m()\u001b[0m\n\u001b[1;32m----> 1\u001b[1;33m \u001b[0mlike\u001b[0m\u001b[1;33m.\u001b[0m\u001b[0mfit\u001b[0m\u001b[1;33m(\u001b[0m\u001b[0mverbosity\u001b[0m\u001b[1;33m=\u001b[0m\u001b[1;36m0\u001b[0m\u001b[1;33m,\u001b[0m\u001b[0mcovar\u001b[0m\u001b[1;33m=\u001b[0m\u001b[0mTrue\u001b[0m\u001b[1;33m,\u001b[0m\u001b[0moptObject\u001b[0m\u001b[1;33m=\u001b[0m\u001b[0mlike2obj\u001b[0m\u001b[1;33m)\u001b[0m\u001b[1;33m\u001b[0m\u001b[0m\n\u001b[0m",
        "\u001b[1;32m/home/fermi2014/AstroSoft/ScienceTools/x86_64-unknown-linux-gnu-libc2.12/lib/python/AnalysisBase.pyc\u001b[0m in \u001b[0;36mfit\u001b[1;34m(self, verbosity, tol, optimizer, covar, optObject)\u001b[0m\n\u001b[0;32m     73\u001b[0m             \u001b[0mtol\u001b[0m \u001b[1;33m=\u001b[0m \u001b[0mself\u001b[0m\u001b[1;33m.\u001b[0m\u001b[0mtol\u001b[0m\u001b[1;33m\u001b[0m\u001b[0m\n\u001b[0;32m     74\u001b[0m         errors = self._errors(optimizer, verbosity, tol, covar=covar,\n\u001b[1;32m---> 75\u001b[1;33m                               optObject=optObject)\n\u001b[0m\u001b[0;32m     76\u001b[0m         \u001b[1;32mreturn\u001b[0m \u001b[1;33m-\u001b[0m\u001b[0mself\u001b[0m\u001b[1;33m.\u001b[0m\u001b[0mlogLike\u001b[0m\u001b[1;33m.\u001b[0m\u001b[0mvalue\u001b[0m\u001b[1;33m(\u001b[0m\u001b[1;33m)\u001b[0m\u001b[1;33m\u001b[0m\u001b[0m\n\u001b[0;32m     77\u001b[0m     def optimize(self, verbosity=3, tol=None, optimizer=None,\n",
        "\u001b[1;32m/home/fermi2014/AstroSoft/ScienceTools/x86_64-unknown-linux-gnu-libc2.12/lib/python/AnalysisBase.pyc\u001b[0m in \u001b[0;36m_errors\u001b[1;34m(self, optimizer, verbosity, tol, useBase, covar, optObject)\u001b[0m\n\u001b[0;32m    116\u001b[0m             \u001b[0mmyOpt\u001b[0m \u001b[1;33m=\u001b[0m \u001b[0moptObject\u001b[0m\u001b[1;33m\u001b[0m\u001b[0m\n\u001b[0;32m    117\u001b[0m         \u001b[0mself\u001b[0m\u001b[1;33m.\u001b[0m\u001b[0moptObject\u001b[0m \u001b[1;33m=\u001b[0m \u001b[0mmyOpt\u001b[0m\u001b[1;33m\u001b[0m\u001b[0m\n\u001b[1;32m--> 118\u001b[1;33m         \u001b[0mmyOpt\u001b[0m\u001b[1;33m.\u001b[0m\u001b[0mfind_min\u001b[0m\u001b[1;33m(\u001b[0m\u001b[0mverbosity\u001b[0m\u001b[1;33m,\u001b[0m \u001b[0mtol\u001b[0m\u001b[1;33m,\u001b[0m \u001b[0mself\u001b[0m\u001b[1;33m.\u001b[0m\u001b[0mtolType\u001b[0m\u001b[1;33m)\u001b[0m\u001b[1;33m\u001b[0m\u001b[0m\n\u001b[0m\u001b[0;32m    119\u001b[0m         \u001b[0merrors\u001b[0m \u001b[1;33m=\u001b[0m \u001b[0mmyOpt\u001b[0m\u001b[1;33m.\u001b[0m\u001b[0mgetUncertainty\u001b[0m\u001b[1;33m(\u001b[0m\u001b[0museBase\u001b[0m\u001b[1;33m)\u001b[0m\u001b[1;33m\u001b[0m\u001b[0m\n\u001b[0;32m    120\u001b[0m         \u001b[1;32mif\u001b[0m \u001b[0mcovar\u001b[0m\u001b[1;33m:\u001b[0m\u001b[1;33m\u001b[0m\u001b[0m\n",
        "\u001b[1;32m/home/fermi2014/AstroSoft/ScienceTools/x86_64-unknown-linux-gnu-libc2.12/lib/python/pyLikelihood.pyc\u001b[0m in \u001b[0;36mfind_min\u001b[1;34m(*args)\u001b[0m\n\u001b[0;32m   2060\u001b[0m         \u001b[0mfind_min\u001b[0m\u001b[1;33m(\u001b[0m\u001b[0mself\u001b[0m\u001b[1;33m)\u001b[0m \u001b[1;33m-\u001b[0m\u001b[1;33m>\u001b[0m \u001b[0mint\u001b[0m\u001b[1;33m\u001b[0m\u001b[0m\n\u001b[0;32m   2061\u001b[0m         \"\"\"\n\u001b[1;32m-> 2062\u001b[1;33m         \u001b[1;32mreturn\u001b[0m \u001b[0mlib_pyLikelihood\u001b[0m\u001b[1;33m.\u001b[0m\u001b[0mNewMinuit_find_min\u001b[0m\u001b[1;33m(\u001b[0m\u001b[1;33m*\u001b[0m\u001b[0margs\u001b[0m\u001b[1;33m)\u001b[0m\u001b[1;33m\u001b[0m\u001b[0m\n\u001b[0m\u001b[0;32m   2063\u001b[0m \u001b[1;33m\u001b[0m\u001b[0m\n\u001b[0;32m   2064\u001b[0m     \u001b[1;32mdef\u001b[0m \u001b[0mfind_min_only\u001b[0m\u001b[1;33m(\u001b[0m\u001b[1;33m*\u001b[0m\u001b[0margs\u001b[0m\u001b[1;33m)\u001b[0m\u001b[1;33m:\u001b[0m\u001b[1;33m\u001b[0m\u001b[0m\n",
        "\u001b[1;31mRuntimeError\u001b[0m: Minuit abnormal termination.  No convergence?"
       ]
      }
     ],
     "prompt_number": 81
    },
    {
     "cell_type": "code",
     "collapsed": false,
     "input": [
      "like.model['_2FGLJ1555.7+1111']"
     ],
     "language": "python",
     "metadata": {},
     "outputs": []
    },
    {
     "cell_type": "code",
     "collapsed": false,
     "input": [
      "like.plot()"
     ],
     "language": "python",
     "metadata": {},
     "outputs": []
    },
    {
     "cell_type": "code",
     "collapsed": false,
     "input": [
      "print likeobj.getRetCode()"
     ],
     "language": "python",
     "metadata": {},
     "outputs": []
    },
    {
     "cell_type": "code",
     "collapsed": false,
     "input": [
      "sourceDetails = {}\n",
      "for source in like.sourceNames():\n",
      "    sourceDetails[source] = like.Ts(source)\n",
      "print sourceDetails"
     ],
     "language": "python",
     "metadata": {},
     "outputs": []
    },
    {
     "cell_type": "code",
     "collapsed": false,
     "input": [
      "like.deleteSource('_2FGLJ1625.2-0020')\n",
      "like.fit(verbosity=0,covar=True,optObject=likeobj)\n",
      "print likeobj.getRetCode()"
     ],
     "language": "python",
     "metadata": {},
     "outputs": []
    },
    {
     "cell_type": "code",
     "collapsed": false,
     "input": [
      "sourceDetails = {}\n",
      "for source in like.sourceNames():\n",
      "    sourceDetails[source] = like.Ts(source)\n",
      "print sourceDetails"
     ],
     "language": "python",
     "metadata": {},
     "outputs": []
    },
    {
     "cell_type": "code",
     "collapsed": false,
     "input": [
      "for source,TS in sourceDetails.iteritems():\n",
      "    print source, TS\n",
      "    if (TS < 9.0):\n",
      "        print \"Deleting...\"\n",
      "        like.deleteSource(source)"
     ],
     "language": "python",
     "metadata": {},
     "outputs": []
    },
    {
     "cell_type": "code",
     "collapsed": false,
     "input": [
      "like.fit(verbosity=0,covar=True,optObject=likeobj)\n",
      "print likeobj.getRetCode()"
     ],
     "language": "python",
     "metadata": {},
     "outputs": []
    },
    {
     "cell_type": "code",
     "collapsed": false,
     "input": [
      "import matplotlib.pyplot as plt\n",
      "import numpy as np"
     ],
     "language": "python",
     "metadata": {},
     "outputs": []
    },
    {
     "cell_type": "code",
     "collapsed": false,
     "input": [],
     "language": "python",
     "metadata": {},
     "outputs": []
    },
    {
     "cell_type": "heading",
     "level": 3,
     "metadata": {},
     "source": [
      "Find the Source"
     ]
    },
    {
     "cell_type": "code",
     "collapsed": false,
     "input": [
      "findsrc = GtApp('gtfindsrc')"
     ],
     "language": "python",
     "metadata": {},
     "outputs": [],
     "prompt_number": 13
    },
    {
     "cell_type": "code",
     "collapsed": false,
     "input": [
      "findsrc['evfile'] = 'GRB130427A_filtered.fits'\n",
      "findsrc['scfile'] = 'Fermi.fits'\n",
      "findsrc['outfile'] = 'GRB130427A_findsrc.txt'\n",
      "findsrc['ra'] = 173.136\n",
      "findsrc['dec'] = 27.7129\n",
      "findsrc['']\n",
      "findsrc.run()\n"
     ],
     "language": "python",
     "metadata": {},
     "outputs": [
      {
       "ename": "KeyError",
       "evalue": "''",
       "output_type": "pyerr",
       "traceback": [
        "\u001b[1;31m---------------------------------------------------------------------------\u001b[0m\n\u001b[1;31mKeyError\u001b[0m                                  Traceback (most recent call last)",
        "\u001b[1;32m<ipython-input-14-32a942c19d0e>\u001b[0m in \u001b[0;36m<module>\u001b[1;34m()\u001b[0m\n\u001b[0;32m      4\u001b[0m \u001b[0mfindsrc\u001b[0m\u001b[1;33m[\u001b[0m\u001b[1;34m'ra'\u001b[0m\u001b[1;33m]\u001b[0m \u001b[1;33m=\u001b[0m \u001b[1;36m173.136\u001b[0m\u001b[1;33m\u001b[0m\u001b[0m\n\u001b[0;32m      5\u001b[0m \u001b[0mfindsrc\u001b[0m\u001b[1;33m[\u001b[0m\u001b[1;34m'dec'\u001b[0m\u001b[1;33m]\u001b[0m \u001b[1;33m=\u001b[0m \u001b[1;36m27.7129\u001b[0m\u001b[1;33m\u001b[0m\u001b[0m\n\u001b[1;32m----> 6\u001b[1;33m \u001b[0mfindsrc\u001b[0m\u001b[1;33m[\u001b[0m\u001b[1;34m''\u001b[0m\u001b[1;33m]\u001b[0m\u001b[1;33m\u001b[0m\u001b[0m\n\u001b[0m\u001b[0;32m      7\u001b[0m \u001b[0mfindsrc\u001b[0m\u001b[1;33m.\u001b[0m\u001b[0mrun\u001b[0m\u001b[1;33m(\u001b[0m\u001b[1;33m)\u001b[0m\u001b[1;33m\u001b[0m\u001b[0m\n",
        "\u001b[1;32m/home/fermi2014/AstroSoft/ScienceTools/x86_64-unknown-linux-gnu-libc2.12/lib/python/GtApp.pyc\u001b[0m in \u001b[0;36m__getitem__\u001b[1;34m(self, key)\u001b[0m\n\u001b[0;32m     46\u001b[0m         \u001b[0mself\u001b[0m\u001b[1;33m.\u001b[0m\u001b[0mpars\u001b[0m\u001b[1;33m[\u001b[0m\u001b[0mkey\u001b[0m\u001b[1;33m]\u001b[0m \u001b[1;33m=\u001b[0m \u001b[0mvalue\u001b[0m\u001b[1;33m\u001b[0m\u001b[0m\n\u001b[0;32m     47\u001b[0m     \u001b[1;32mdef\u001b[0m \u001b[0m__getitem__\u001b[0m\u001b[1;33m(\u001b[0m\u001b[0mself\u001b[0m\u001b[1;33m,\u001b[0m \u001b[0mkey\u001b[0m\u001b[1;33m)\u001b[0m\u001b[1;33m:\u001b[0m\u001b[1;33m\u001b[0m\u001b[0m\n\u001b[1;32m---> 48\u001b[1;33m         \u001b[1;32mreturn\u001b[0m \u001b[0mself\u001b[0m\u001b[1;33m.\u001b[0m\u001b[0mpars\u001b[0m\u001b[1;33m[\u001b[0m\u001b[0mkey\u001b[0m\u001b[1;33m]\u001b[0m\u001b[1;33m\u001b[0m\u001b[0m\n\u001b[0m\u001b[0;32m     49\u001b[0m     \u001b[1;32mdef\u001b[0m \u001b[0m__getattr__\u001b[0m\u001b[1;33m(\u001b[0m\u001b[0mself\u001b[0m\u001b[1;33m,\u001b[0m \u001b[0mattrname\u001b[0m\u001b[1;33m)\u001b[0m\u001b[1;33m:\u001b[0m\u001b[1;33m\u001b[0m\u001b[0m\n\u001b[0;32m     50\u001b[0m         \u001b[1;32mreturn\u001b[0m \u001b[0mgetattr\u001b[0m\u001b[1;33m(\u001b[0m\u001b[0mself\u001b[0m\u001b[1;33m.\u001b[0m\u001b[0mpars\u001b[0m\u001b[1;33m,\u001b[0m \u001b[0mattrname\u001b[0m\u001b[1;33m)\u001b[0m\u001b[1;33m\u001b[0m\u001b[0m\n",
        "\u001b[1;32m/home/fermi2014/AstroSoft/ScienceTools/x86_64-unknown-linux-gnu-libc2.12/lib/python/pil.pyc\u001b[0m in \u001b[0;36m__getitem__\u001b[1;34m(self, name)\u001b[0m\n\u001b[0;32m     55\u001b[0m         \u001b[1;32mreturn\u001b[0m \u001b[0mself\u001b[0m\u001b[1;33m.\u001b[0m\u001b[0mparams\u001b[0m\u001b[1;33m.\u001b[0m\u001b[0mhas_key\u001b[0m\u001b[1;33m(\u001b[0m\u001b[0mname\u001b[0m\u001b[1;33m)\u001b[0m\u001b[1;33m\u001b[0m\u001b[0m\n\u001b[0;32m     56\u001b[0m     \u001b[1;32mdef\u001b[0m \u001b[0m__getitem__\u001b[0m\u001b[1;33m(\u001b[0m\u001b[0mself\u001b[0m\u001b[1;33m,\u001b[0m \u001b[0mname\u001b[0m\u001b[1;33m)\u001b[0m\u001b[1;33m:\u001b[0m\u001b[1;33m\u001b[0m\u001b[0m\n\u001b[1;32m---> 57\u001b[1;33m         \u001b[0mvalue\u001b[0m \u001b[1;33m=\u001b[0m \u001b[1;33m(\u001b[0m\u001b[0mself\u001b[0m\u001b[1;33m.\u001b[0m\u001b[0mparams\u001b[0m\u001b[1;33m[\u001b[0m\u001b[0mname\u001b[0m\u001b[1;33m]\u001b[0m\u001b[1;33m[\u001b[0m\u001b[1;36m2\u001b[0m\u001b[1;33m]\u001b[0m\u001b[1;33m)\u001b[0m\u001b[1;33m.\u001b[0m\u001b[0mstrip\u001b[0m\u001b[1;33m(\u001b[0m\u001b[1;34m'\"'\u001b[0m\u001b[1;33m)\u001b[0m\u001b[1;33m.\u001b[0m\u001b[0mstrip\u001b[0m\u001b[1;33m(\u001b[0m\u001b[1;34m\"'\"\u001b[0m\u001b[1;33m)\u001b[0m\u001b[1;33m\u001b[0m\u001b[0m\n\u001b[0m\u001b[0;32m     58\u001b[0m         \u001b[1;32mif\u001b[0m \u001b[0mvalue\u001b[0m \u001b[1;33m==\u001b[0m \u001b[1;34m'INDEF'\u001b[0m\u001b[1;33m:\u001b[0m\u001b[1;33m\u001b[0m\u001b[0m\n\u001b[0;32m     59\u001b[0m             \u001b[1;32mreturn\u001b[0m \u001b[0mvalue\u001b[0m\u001b[1;33m\u001b[0m\u001b[0m\n",
        "\u001b[1;31mKeyError\u001b[0m: ''"
       ]
      }
     ],
     "prompt_number": 14
    },
    {
     "cell_type": "code",
     "collapsed": false,
     "input": [
      "help(diffrsp)"
     ],
     "language": "python",
     "metadata": {},
     "outputs": [
      {
       "output_type": "stream",
       "stream": "stdout",
       "text": [
        "Help on GtApp in module GtApp object:\n",
        "\n",
        "class GtApp(__builtin__.object)\n",
        " |  Methods defined here:\n",
        " |  \n",
        " |  __getattr__(self, attrname)\n",
        " |  \n",
        " |  __getitem__(self, key)\n",
        " |  \n",
        " |  __init__(self, appName, package=None, raiseKeyErrors=True, preserveQuotes=False)\n",
        " |  \n",
        " |  __setitem__(self, key, value)\n",
        " |  \n",
        " |  command(self, do_timing=True)\n",
        " |  \n",
        " |  run(self, print_command=True, catchError='at the top level:', dry_run=False, **kwds)\n",
        " |  \n",
        " |  runWithOutput(self, print_command=True)\n",
        " |  \n",
        " |  ----------------------------------------------------------------------\n",
        " |  Data descriptors defined here:\n",
        " |  \n",
        " |  __dict__\n",
        " |      dictionary for instance variables (if defined)\n",
        " |  \n",
        " |  __weakref__\n",
        " |      list of weak references to the object (if defined)\n",
        "\n"
       ]
      }
     ],
     "prompt_number": 60
    },
    {
     "cell_type": "code",
     "collapsed": false,
     "input": [],
     "language": "python",
     "metadata": {},
     "outputs": []
    }
   ],
   "metadata": {}
  }
 ]
}