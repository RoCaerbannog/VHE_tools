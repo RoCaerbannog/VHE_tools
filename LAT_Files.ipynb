{
 "metadata": {
  "name": "",
  "signature": "sha256:fb5c2b2fd1fc560c47292fc5b21f614a16213e6536f37b2b60af4e22e0986f15"
 },
 "nbformat": 3,
 "nbformat_minor": 0,
 "worksheets": [
  {
   "cells": [
    {
     "cell_type": "heading",
     "level": 1,
     "metadata": {},
     "source": [
      "LAT Files"
     ]
    },
    {
     "cell_type": "code",
     "collapsed": false,
     "input": [
      "%pylab inline"
     ],
     "language": "python",
     "metadata": {},
     "outputs": [
      {
       "output_type": "stream",
       "stream": "stdout",
       "text": [
        "Populating the interactive namespace from numpy and matplotlib\n"
       ]
      }
     ],
     "prompt_number": 2
    },
    {
     "cell_type": "code",
     "collapsed": false,
     "input": [
      "import os"
     ],
     "language": "python",
     "metadata": {},
     "outputs": [],
     "prompt_number": 3
    },
    {
     "cell_type": "code",
     "collapsed": false,
     "input": [
      "import urllib\n",
      "from bs4 import BeautifulSoup\n",
      "soup = BeautifulSoup(urllib.urlopen(\"http://fermi.gsfc.nasa.gov/ssc/observations/types/grbs/lat_grbs/table.php\"))\n",
      "rows = soup.findAll(name='tr')\n",
      "grb = {}\n",
      "for row in rows:\n",
      "    GRB = row.findAll(name='td')\n",
      "    if GRB:\n",
      "        # get last td \"center\"\n",
      "        grb[GRB[1].text] = {'Name':GRB[1].text, 'MET': GRB[2].text, 'RA':GRB[5].text,'DEC': GRB[6].text,'THETA':GRB[9].text,'ZENITH':GRB[10].text,}\n",
      "        \n",
      "        "
     ],
     "language": "python",
     "metadata": {},
     "outputs": [],
     "prompt_number": 4
    },
    {
     "cell_type": "code",
     "collapsed": false,
     "input": [
      "grb['130427A']"
     ],
     "language": "python",
     "metadata": {},
     "outputs": [
      {
       "metadata": {},
       "output_type": "pyout",
       "prompt_number": 5,
       "text": [
        "{'DEC': u'27.7129',\n",
        " 'MET': u'388741629',\n",
        " 'Name': u'130427A',\n",
        " 'RA': u'173.136',\n",
        " 'THETA': u'47.31',\n",
        " 'ZENITH': u'63.905'}"
       ]
      }
     ],
     "prompt_number": 5
    },
    {
     "cell_type": "code",
     "collapsed": false,
     "input": [
      "import re\n",
      "from mechanize import Browser\n",
      "\n",
      "br = Browser()\n",
      "br.set_handle_robots(False)\n",
      "br.set_handle_refresh(False)\n",
      "br.addheaders = [('User-agent','Firefox')]\n",
      "\n",
      "response = br.open(\"http://heasarc.gsfc.nasa.gov/cgi-bin/Tools/xTime/xTime.pl\")\n",
      "#print response.read()\n",
      "response1 = br.response()\n",
      "#print response1\n",
      "br.form = list(br.forms())[2] \n",
      "br.form['time_in_sf'] = grb['130427A']['MET']\n",
      "\n",
      "response = br.submit()\n",
      "print response.geturl()\n",
      "soup = BeautifulSoup(urllib.urlopen(response.geturl()))\n",
      "html = soup('table')[1].findAll('td')[13]\n",
      "week = html.get_text()\n",
      "\n",
      "#form > center:nth-child(1) > table:nth-child(1) > tbody:nth-child(1) > tr:nth-child(9) > td:nth-child(3)"
     ],
     "language": "python",
     "metadata": {},
     "outputs": [
      {
       "output_type": "stream",
       "stream": "stdout",
       "text": [
        "http://heasarc.gsfc.nasa.gov/cgi-bin/Tools/xTime/xTime.pl?time_in_i=&time_in_c=&time_in_d=&time_in_j=&time_in_m=&time_in_sf=388741629&time_in_wf=&time_in_snu=&time_in_s=&time_in_h=&time_in_n=&time_in_f=&time_in_sz=&time_in_ss=&time_in_sn=&timesys_in=u&timesys_out=u&apply_clock_offset=yes\n"
       ]
      }
     ],
     "prompt_number": 142
    },
    {
     "cell_type": "code",
     "collapsed": false,
     "input": [
      "import urllib2\n",
      "if int(week) > 99:\n",
      "    url_ph = 'http://heasarc.gsfc.nasa.gov/FTP/fermi/data/lat/weekly/photon/lat_photon_weekly_w'+week+'_p203_v001.fits'\n",
      "    url_sc = 'http://fermi.gsfc.nasa.gov/ssc/observations/timeline/ft2/files/FERMI_POINTING_FINAL_'+week+'_2013101_2013108_00.fits'\n",
      "else: \n",
      "    url_ph = 'http://heasarc.gsfc.nasa.gov/FTP/fermi/data/lat/weekly/photon/lat_photon_weekly_w0'+week+'_p203_v001.fits'\n",
      "    url_sc = 'http://fermi.gsfc.nasa.gov/ssc/observations/timeline/ft2/files/FERMI_POINTING_FINAL_0'+week+'_2013101_2013108_00.fits'\n",
      "    \n",
      "ph_file_name = 'Fermi_ph_week_'+week+'.fits'\n",
      "sc_file_name = 'Fermi_sc_week_'+week+'.fits'\n",
      "if os.path.isfile(ph_file_name) == True:\n",
      "    pass\n",
      "else:\n",
      "    urllib.urlretrieve(url_ph, ph_file_name)\n",
      "if os.path.isfile(sc_file_name) == True:\n",
      "    pass\n",
      "else:\n",
      "    urllib.urlretrieve(url_sc, sc_file_name)\n"
     ],
     "language": "python",
     "metadata": {},
     "outputs": [],
     "prompt_number": 159
    },
    {
     "cell_type": "code",
     "collapsed": false,
     "input": [],
     "language": "python",
     "metadata": {},
     "outputs": []
    },
    {
     "cell_type": "code",
     "collapsed": false,
     "input": [
      "os.path.isfile(file_name)"
     ],
     "language": "python",
     "metadata": {},
     "outputs": [
      {
       "metadata": {},
       "output_type": "pyout",
       "prompt_number": 154,
       "text": [
        "True"
       ]
      }
     ],
     "prompt_number": 154
    },
    {
     "cell_type": "code",
     "collapsed": false,
     "input": [],
     "language": "python",
     "metadata": {},
     "outputs": []
    },
    {
     "cell_type": "code",
     "collapsed": false,
     "input": [
      "help(response)"
     ],
     "language": "python",
     "metadata": {},
     "outputs": [
      {
       "output_type": "stream",
       "stream": "stdout",
       "text": [
        "Help on instance of addinfourl in module urllib:\n",
        "\n",
        "class addinfourl(addbase)\n",
        " |  class to add info() and geturl() methods to an open file.\n",
        " |  \n",
        " |  Methods defined here:\n",
        " |  \n",
        " |  __init__(self, fp, headers, url, code=None)\n",
        " |  \n",
        " |  getcode(self)\n",
        " |  \n",
        " |  geturl(self)\n",
        " |  \n",
        " |  info(self)\n",
        " |  \n",
        " |  ----------------------------------------------------------------------\n",
        " |  Methods inherited from addbase:\n",
        " |  \n",
        " |  __repr__(self)\n",
        " |  \n",
        " |  close(self)\n",
        "\n"
       ]
      }
     ],
     "prompt_number": 146
    },
    {
     "cell_type": "code",
     "collapsed": false,
     "input": [
      "new_response.geturl()"
     ],
     "language": "python",
     "metadata": {},
     "outputs": [
      {
       "metadata": {},
       "output_type": "pyout",
       "prompt_number": 5,
       "text": [
        "'http://fermi.gsfc.nasa.gov/cgi-bin/ssc/LAT/QueryResults.cgi?id=L140613142143D488C73915'"
       ]
      }
     ],
     "prompt_number": 5
    },
    {
     "cell_type": "code",
     "collapsed": false,
     "input": [
      "soup = BeautifulSoup(urllib.urlopen(new_response.geturl()))\n",
      "for link in soup.find_all('pre'):\n",
      "    new_links = link.get_text()"
     ],
     "language": "python",
     "metadata": {},
     "outputs": [],
     "prompt_number": 8
    },
    {
     "cell_type": "code",
     "collapsed": false,
     "input": [
      "fits_links = re.findall(\"(?P<url>https?://[^\\s]+)\", new_links)\n",
      "print fits_links"
     ],
     "language": "python",
     "metadata": {},
     "outputs": [
      {
       "output_type": "stream",
       "stream": "stdout",
       "text": [
        "[u'http://fermi.gsfc.nasa.gov/FTP/fermi/data/lat/queries/L140613142143D488C73915_SC00.fits', u'http://fermi.gsfc.nasa.gov/FTP/fermi/data/lat/queries/L140613142143D488C73915_PH00.fits']\n"
       ]
      }
     ],
     "prompt_number": 9
    },
    {
     "cell_type": "code",
     "collapsed": false,
     "input": [
      "if os.path.exists(grb['130427A']['Name']) == True:\n",
      "    pass\n",
      "else:\n",
      "    os.mkdir(grb['130427A']['Name'])\n",
      "os.chdir(grb['130427A']['Name'])\n",
      "for url in fits_links:\n",
      "    file_name = url.split('queries/')[1]\n",
      "    urllib.urlretrieve(url, file_name)\n",
      "os.chdir('/home/fermi2014/Desktop/Project/summer20114')"
     ],
     "language": "python",
     "metadata": {},
     "outputs": [],
     "prompt_number": 54
    },
    {
     "cell_type": "code",
     "collapsed": false,
     "input": [
      "file_name"
     ],
     "language": "python",
     "metadata": {},
     "outputs": [
      {
       "metadata": {},
       "output_type": "pyout",
       "prompt_number": 11,
       "text": [
        "u'L140613142143D488C73915_PH00.fits'"
       ]
      }
     ],
     "prompt_number": 11
    },
    {
     "cell_type": "code",
     "collapsed": false,
     "input": [
      "file_name.split[5_]"
     ],
     "language": "python",
     "metadata": {},
     "outputs": [
      {
       "ename": "SyntaxError",
       "evalue": "invalid syntax (<ipython-input-14-52371b94efbe>, line 1)",
       "output_type": "pyerr",
       "traceback": [
        "\u001b[1;36m  File \u001b[1;32m\"<ipython-input-14-52371b94efbe>\"\u001b[1;36m, line \u001b[1;32m1\u001b[0m\n\u001b[1;33m    file_name.split[5_]\u001b[0m\n\u001b[1;37m                     ^\u001b[0m\n\u001b[1;31mSyntaxError\u001b[0m\u001b[1;31m:\u001b[0m invalid syntax\n"
       ]
      }
     ],
     "prompt_number": 14
    },
    {
     "cell_type": "code",
     "collapsed": false,
     "input": [
      "os.path.exists(grb['130427A']['Name'])"
     ],
     "language": "python",
     "metadata": {},
     "outputs": [
      {
       "metadata": {},
       "output_type": "pyout",
       "prompt_number": 30,
       "text": [
        "True"
       ]
      }
     ],
     "prompt_number": 30
    },
    {
     "cell_type": "code",
     "collapsed": false,
     "input": [
      "os.chdir('/home/fermi2014/Desktop/Project/summer20114')\n"
     ],
     "language": "python",
     "metadata": {},
     "outputs": [],
     "prompt_number": 52
    },
    {
     "cell_type": "code",
     "collapsed": false,
     "input": [
      "pwd"
     ],
     "language": "python",
     "metadata": {},
     "outputs": [
      {
       "metadata": {},
       "output_type": "pyout",
       "prompt_number": 55,
       "text": [
        "u'/home/fermi2014/Desktop/Project/summer20114'"
       ]
      }
     ],
     "prompt_number": 55
    },
    {
     "cell_type": "code",
     "collapsed": false,
     "input": [],
     "language": "python",
     "metadata": {},
     "outputs": []
    },
    {
     "cell_type": "code",
     "collapsed": false,
     "input": [
      "import re\n",
      "from mechanize import Browser\n",
      "\n",
      "br = Browser()\n",
      "br.set_handle_robots(False)\n",
      "br.set_handle_refresh(False)\n",
      "br.addheaders = [('User-agent','Firefox')]\n",
      "\n",
      "response = br.open(\"http://fermi.gsfc.nasa.gov/cgi-bin/ssc/LAT/LATDataQuery.cgi\")\n",
      "#print response.read()\n",
      "response1 = br.response()\n",
      "#print response1\n",
      "\n",
      "for form in br.forms():\n",
      "    print \"Form name:\", form.name\n",
      "    print form\n",
      "    \n",
      "br.form = list(br.forms())[0]  \n",
      "for control in br.form.controls:\n",
      "    print control\n",
      "    print control.type, control.name\n",
      "#control = br.form.find_control(\"coordfield\")\n",
      "if control.type == \"select\":  # means it's class ClientForm.SelectControl\n",
      "    for item in control.items:\n",
      "        print \" name=%s values=%s\" % (item.name, str([label.text  for label in item.get_labels()]))\n",
      "        \n",
      "print control.value\n",
      "print control  # selected value is starred\n",
      "\n",
      "br.form['coordfield'] = grb['130427A']['RA']+','+grb['130427A']['DEC']\n",
      "br.form['coordsystem'] = ['Galactic']\n",
      "br.form['shapefield'] = \"30\"\n",
      "br.form['timefield'] = grb['130427A']['MET']+','+str(int(grb['130427A']['MET'])+10000)\n",
      "br.form['timetype'] = ['MET']\n",
      "br.form['energyfield'] = \"100,300000\"\n",
      "br.form['photonOrExtendedOrNone'] = ['Photon']\n",
      "br.form['spacecraft'] = ['on']\n",
      "\n",
      "response = br.submit()\n",
      "print response.read\n",
      "\n",
      "#print response.geturl()\n",
      "#br.find_link(tag = 'a')\n",
      "\n",
      "\n",
      "for link in br.links(url_regex = 'http://fermi.gsfc.nasa.gov/cgi-bin/ssc/LAT/'):\n",
      "    new_response = br.follow_link(link)\n",
      "    print new_response.geturl()\n",
      "\n",
      "\n",
      "#request = br.click_link(link)\n",
      "#response = br.follow_link(link)\n",
      "\n",
      "\n",
      "    #br.select_form(name=\"order\")\n",
      "# Browser passes through unknown attributes (including methods)\n",
      "# to the selected HTMLForm (from ClientForm).\n",
      "#br[\"cheeses\"] = [\"mozzarella\", \"caerphilly\"]  # (the method here is __setitem__)\n",
      "#response = br.submit() "
     ],
     "language": "python",
     "metadata": {},
     "outputs": [
      {
       "output_type": "stream",
       "stream": "stdout",
       "text": [
        "Form name: None\n",
        "<POST http://fermi.gsfc.nasa.gov/cgi-bin/ssc/LAT/LATDataQuery.cgi multipart/form-data\n",
        "  <HiddenControl(destination=query) (readonly)>\n",
        "  <SubmitControl(<None>=Start Search) (readonly)>\n",
        "  <IgnoreControl(<None>=<None>)>\n",
        "  <TextControl(coordfield=value)>\n",
        "  <SelectControl(coordsystem=[*J2000, B1950, Galactic])>\n",
        "  <TextControl(shapefield=value)>\n",
        "  <TextControl(timefield=value)>\n",
        "  <SelectControl(timetype=[*Gregorian, MET, MJD])>\n",
        "  <TextControl(energyfield=value)>\n",
        "  <SelectControl(photonOrExtendedOrNone=[*Photon, Extended, None])>\n",
        "  <CheckboxControl(spacecraft=[*on])>>\n",
        "<HiddenControl(destination=query) (readonly)>\n",
        "hidden destination\n",
        "<SubmitControl(<None>=Start Search) (readonly)>\n",
        "submit None\n",
        "<IgnoreControl(<None>=<None>)>\n",
        "reset None\n",
        "<TextControl(coordfield=value)>\n",
        "text coordfield\n",
        "<SelectControl(coordsystem=[*J2000, B1950, Galactic])>\n",
        "select coordsystem\n",
        "<TextControl(shapefield=value)>\n",
        "text shapefield\n",
        "<TextControl(timefield=value)>\n",
        "text timefield\n",
        "<SelectControl(timetype=[*Gregorian, MET, MJD])>\n",
        "select timetype\n",
        "<TextControl(energyfield=value)>\n",
        "text energyfield\n",
        "<SelectControl(photonOrExtendedOrNone=[*Photon, Extended, None])>\n",
        "select photonOrExtendedOrNone\n",
        "<CheckboxControl(spacecraft=[*on])>\n",
        "checkbox spacecraft\n",
        "['on']\n",
        "<CheckboxControl(spacecraft=[*on])>\n",
        "http://fermi.gsfc.nasa.gov/cgi-bin/ssc/LAT/QueryResults.cgi?id=L140613142143D488C73915"
       ]
      },
      {
       "output_type": "stream",
       "stream": "stdout",
       "text": [
        "\n"
       ]
      }
     ],
     "prompt_number": 4
    }
   ],
   "metadata": {}
  }
 ]
}